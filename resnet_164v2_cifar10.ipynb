{
  "nbformat": 4,
  "nbformat_minor": 0,
  "metadata": {
    "colab": {
      "name": "resnet_164v2_cifar10.ipynb",
      "provenance": []
    },
    "kernelspec": {
      "name": "python3",
      "display_name": "Python 3"
    },
    "accelerator": "GPU"
  },
  "cells": [
    {
      "cell_type": "markdown",
      "metadata": {
        "id": "UnEG2I25fG7T",
        "colab_type": "text"
      },
      "source": [
        "# Cifar-10, Resnet Implementation using MXNet\n",
        "\n"
      ]
    },
    {
      "cell_type": "code",
      "metadata": {
        "id": "Pdg8JPHCYrd7",
        "colab_type": "code",
        "colab": {}
      },
      "source": [
        "!pip install d2lzh  # installing d2l\n",
        "!pip install -U --pre mxnet-cu101mkl  # updating mxnet to at least v1.6"
      ],
      "execution_count": 0,
      "outputs": []
    },
    {
      "cell_type": "code",
      "metadata": {
        "id": "94boivJsZ0WT",
        "colab_type": "code",
        "colab": {}
      },
      "source": [
        "import d2lzh as d2l\n",
        "from mxnet import autograd, gluon, init\n",
        "from mxnet.gluon import data as gdata, loss as gloss, nn\n",
        "import os\n",
        "import pandas as pd\n",
        "import shutil\n",
        "import time"
      ],
      "execution_count": 0,
      "outputs": []
    },
    {
      "cell_type": "code",
      "metadata": {
        "id": "y5kxVscjZ29v",
        "colab_type": "code",
        "colab": {}
      },
      "source": [
        "import tarfile"
      ],
      "execution_count": 0,
      "outputs": []
    },
    {
      "cell_type": "code",
      "metadata": {
        "id": "zOr7FMU_Z55t",
        "colab_type": "code",
        "colab": {}
      },
      "source": [
        "tf = tarfile.open(\"../cifar/cifar.tar\")\n",
        "tf.extractall('../cifar/')"
      ],
      "execution_count": 0,
      "outputs": []
    },
    {
      "cell_type": "code",
      "metadata": {
        "id": "sxdg0BvoZ6tC",
        "colab_type": "code",
        "colab": {}
      },
      "source": [
        "def read_label_file(data_dir, label_file, train_dir, valid_ratio):\n",
        "    with open(os.path.join(data_dir, label_file), 'r') as f:\n",
        "        lines = f.readlines()[1:]\n",
        "        tokens = [l.rstrip().split(',') for l in lines]\n",
        "        idx_label = dict(((int(idx), label) for idx, label in tokens))\n",
        "    labels = set(idx_label.values())\n",
        "    n_train_valid = len(os.listdir(os.path.join(data_dir, train_dir)))\n",
        "    n_train = int(n_train_valid * (1 - valid_ratio))\n",
        "    assert 0 < n_train < n_train_valid\n",
        "    return n_train // len(labels), idx_label"
      ],
      "execution_count": 0,
      "outputs": []
    },
    {
      "cell_type": "code",
      "metadata": {
        "id": "-MRKAJ1laL7d",
        "colab_type": "code",
        "colab": {}
      },
      "source": [
        "def mkdir_if_not_exist(path):  \n",
        "    if not os.path.exists(os.path.join(*path)):\n",
        "        os.makedirs(os.path.join(*path))"
      ],
      "execution_count": 0,
      "outputs": []
    },
    {
      "cell_type": "markdown",
      "metadata": {
        "id": "8qnXEShEabkX",
        "colab_type": "text"
      },
      "source": [
        "The below functions separate the original training dataset to several datasets \"train\", \"valid\", \"train_valid\", and \"test\"."
      ]
    },
    {
      "cell_type": "code",
      "metadata": {
        "id": "vy0xajmjagCo",
        "colab_type": "code",
        "colab": {}
      },
      "source": [
        "def reorg_train_valid(data_dir, train_dir, input_dir, n_train_per_label,\n",
        "                      idx_label):\n",
        "    label_count = {}\n",
        "    for train_file in os.listdir(os.path.join(data_dir, train_dir)):\n",
        "        idx = int(train_file.split('.')[0])\n",
        "        label = idx_label[idx]\n",
        "        mkdir_if_not_exist([data_dir, input_dir, 'train_valid', label])\n",
        "        shutil.copy(os.path.join(data_dir, train_dir, train_file),\n",
        "                    os.path.join(data_dir, input_dir, 'train_valid', label))\n",
        "        if label not in label_count or label_count[label] < n_train_per_label:\n",
        "            mkdir_if_not_exist([data_dir, input_dir, 'train', label])\n",
        "            shutil.copy(os.path.join(data_dir, train_dir, train_file),\n",
        "                        os.path.join(data_dir, input_dir, 'train', label))\n",
        "            label_count[label] = label_count.get(label, 0) + 1\n",
        "        else:\n",
        "            mkdir_if_not_exist([data_dir, input_dir, 'valid', label])\n",
        "            shutil.copy(os.path.join(data_dir, train_dir, train_file),\n",
        "                        os.path.join(data_dir, input_dir, 'valid', label))"
      ],
      "execution_count": 0,
      "outputs": []
    },
    {
      "cell_type": "code",
      "metadata": {
        "id": "z20-NRhYaje3",
        "colab_type": "code",
        "colab": {}
      },
      "source": [
        "def reorg_test(data_dir, test_dir, input_dir):\n",
        "    mkdir_if_not_exist([data_dir, input_dir, 'test', 'unknown'])\n",
        "    for test_file in os.listdir(os.path.join(data_dir, test_dir)):\n",
        "        shutil.copy(os.path.join(data_dir, test_dir, test_file),\n",
        "                    os.path.join(data_dir, input_dir, 'test', 'unknown'))"
      ],
      "execution_count": 0,
      "outputs": []
    },
    {
      "cell_type": "code",
      "metadata": {
        "id": "b_1CA3S3awO4",
        "colab_type": "code",
        "colab": {}
      },
      "source": [
        "def reorg_cifar10_data(data_dir, label_file, train_dir, test_dir, input_dir,\n",
        "                       valid_ratio):\n",
        "    n_train_per_label, idx_label = read_label_file(data_dir, label_file,\n",
        "                                                   train_dir, valid_ratio)\n",
        "    reorg_train_valid(data_dir, train_dir, input_dir, n_train_per_label,\n",
        "                      idx_label)\n",
        "    reorg_test(data_dir, test_dir, input_dir)"
      ],
      "execution_count": 0,
      "outputs": []
    },
    {
      "cell_type": "code",
      "metadata": {
        "id": "bQZklI3HimUA",
        "colab_type": "code",
        "colab": {}
      },
      "source": [
        "demo = False"
      ],
      "execution_count": 0,
      "outputs": []
    },
    {
      "cell_type": "code",
      "metadata": {
        "id": "mzbAwvusa3g0",
        "colab_type": "code",
        "colab": {}
      },
      "source": [
        "if demo:\n",
        "    train_dir, test_dir, batch_size = 'train_tiny', 'test_tiny', 1\n",
        "else:\n",
        "    train_dir, test_dir, batch_size = 'train', 'test', 128\n",
        "data_dir, label_file = '../cifar/', 'trainLabels.csv'\n",
        "input_dir, valid_ratio = 'train_valid_test', 0.1\n",
        "reorg_cifar10_data(data_dir, label_file, train_dir, test_dir, input_dir,\n",
        "                   valid_ratio)"
      ],
      "execution_count": 0,
      "outputs": []
    },
    {
      "cell_type": "markdown",
      "metadata": {
        "id": "7inQFAnba8Y_",
        "colab_type": "text"
      },
      "source": [
        "Image Augmentation"
      ]
    },
    {
      "cell_type": "code",
      "metadata": {
        "id": "kF2hfrYka7dE",
        "colab_type": "code",
        "colab": {}
      },
      "source": [
        "transform_train = gdata.vision.transforms.Compose([\n",
        "  gdata.vision.transforms.Resize(40),\n",
        "  gdata.vision.transforms.RandomBrightness(0.5),\n",
        "  gdata.vision.transforms.RandomHue(0.5),\n",
        "  gdata.vision.transforms.RandomResizedCrop(32, scale=(0.64, 1.0), ratio=(1.0,1.0)),\n",
        "  gdata.vision.transforms.RandomFlipLeftRight(),\n",
        "  gdata.vision.transforms.ToTensor(),\n",
        "  gdata.vision.transforms.Normalize([0.4914, 0.4822, 0.4465],\n",
        "                                    [0.2023, 0.1994, 0.2010])\n",
        "])"
      ],
      "execution_count": 0,
      "outputs": []
    },
    {
      "cell_type": "code",
      "metadata": {
        "id": "30pEVh3ia_sK",
        "colab_type": "code",
        "colab": {}
      },
      "source": [
        "transform_test = gdata.vision.transforms.Compose([\n",
        "  gdata.vision.transforms.ToTensor(),\n",
        "  gdata.vision.transforms.Normalize([0.4914, 0.4822, 0.4465],\n",
        "                                    [0.2023, 0.1994, 0.2010])\n",
        "])"
      ],
      "execution_count": 0,
      "outputs": []
    },
    {
      "cell_type": "markdown",
      "metadata": {
        "id": "cD6cIRBDbGfO",
        "colab_type": "text"
      },
      "source": [
        "Loading dataset"
      ]
    },
    {
      "cell_type": "code",
      "metadata": {
        "id": "zyrcrffubDjr",
        "colab_type": "code",
        "colab": {}
      },
      "source": [
        "train_ds = gdata.vision.ImageFolderDataset(\n",
        "    os.path.join(data_dir, input_dir, 'train'), flag=1)\n",
        "valid_ds = gdata.vision.ImageFolderDataset(\n",
        "    os.path.join(data_dir, input_dir, 'valid'), flag=1)\n",
        "train_valid_ds = gdata.vision.ImageFolderDataset(\n",
        "    os.path.join(data_dir, input_dir, 'train_valid'), flag=1)\n",
        "test_ds = gdata.vision.ImageFolderDataset(\n",
        "    os.path.join(data_dir, input_dir, 'test'), flag=1)"
      ],
      "execution_count": 0,
      "outputs": []
    },
    {
      "cell_type": "markdown",
      "metadata": {
        "id": "GduAKS0vbzvQ",
        "colab_type": "text"
      },
      "source": [
        "Start to make Image Augmentation"
      ]
    },
    {
      "cell_type": "code",
      "metadata": {
        "id": "IxX2cYmVbOuj",
        "colab_type": "code",
        "colab": {}
      },
      "source": [
        "train_iter = gdata.DataLoader(train_ds.transform_first(transform_train),\n",
        "                              batch_size, shuffle=True, last_batch='keep')\n",
        "valid_iter = gdata.DataLoader(valid_ds.transform_first(transform_test),\n",
        "                              batch_size, shuffle=True, last_batch='keep')\n",
        "train_valid_iter = gdata.DataLoader(train_valid_ds.transform_first(\n",
        "    transform_train), batch_size, shuffle=True, last_batch='keep')\n",
        "test_iter = gdata.DataLoader(test_ds.transform_first(transform_test),\n",
        "                             batch_size, shuffle=False, last_batch='keep')"
      ],
      "execution_count": 0,
      "outputs": []
    },
    {
      "cell_type": "markdown",
      "metadata": {
        "id": "Rox2Gm7Icb8J",
        "colab_type": "text"
      },
      "source": [
        "Define the model(Resnet-164)\n",
        "\n"
      ]
    },
    {
      "cell_type": "code",
      "metadata": {
        "id": "hEtz_gI9cVGH",
        "colab_type": "code",
        "colab": {}
      },
      "source": [
        "class Residual_v2_bottleneck(nn.HybridBlock):\n",
        "  def __init__(self, channels, same_shape=True,**kwargs):\n",
        "    super(Residual_v2_bottleneck, self).__init__(**kwargs)\n",
        "    self.same_shape = same_shape\n",
        "    with self.name_scope():\n",
        "      strides = 1 if same_shape else 2\n",
        "      self.bn1 = nn.BatchNorm()\n",
        "      self.conv1 = nn.Conv2D(channels//4, 1, use_bias=False)\n",
        "      self.bn2 = nn.BatchNorm()\n",
        "      self.conv2 = nn.Conv2D(channels//4, 3, padding=1, strides=strides, use_bias=False)\n",
        "      self.bn3 = nn.BatchNorm()\n",
        "      self.conv3 = nn.Conv2D(channels, 1, use_bias=False)\n",
        "      self.bn4= nn.BatchNorm()\n",
        "\n",
        "      # print(\"ok1\")\n",
        "\n",
        "      if not same_shape:\n",
        "        self.conv4 = nn.Conv2D(channels, kernel_size=1, strides=strides, use_bias=False)\n",
        "      else:\n",
        "        self.conv4 = None\n",
        "\n",
        "  def hybrid_forward(self, F, X):\n",
        "    Y = self.conv1(self.bn1(X))\n",
        "    Y = F.relu(self.bn2(Y))\n",
        "    Y = F.relu(self.bn3(self.conv2(Y)))\n",
        "    Y = self.bn4(self.conv3(Y))\n",
        "    if self.conv4:\n",
        "      X = self.conv4(X)\n",
        "    # print(\"ok3\")\n",
        "    return Y+X"
      ],
      "execution_count": 0,
      "outputs": []
    },
    {
      "cell_type": "code",
      "metadata": {
        "id": "qPMmEF-0cmLq",
        "colab_type": "code",
        "colab": {}
      },
      "source": [
        "def ResNet164_v2(num_classes):\n",
        "  net = nn.HybridSequential()\n",
        "  net.add(nn.Conv2D(64, kernel_size=3, strides=1, padding=1),nn.BatchNorm(),nn.Activation('relu'))\n",
        "\n",
        "  #block2\n",
        "  for _ in range(27):\n",
        "    net.add(Residual_v2_bottleneck(64))\n",
        "  #block3\n",
        "  net.add(Residual_v2_bottleneck(128, same_shape=False))\n",
        "  for _ in range(26):\n",
        "    net.add(Residual_v2_bottleneck(128)) \n",
        "  #block4\n",
        "  net.add(Residual_v2_bottleneck(256, same_shape=False))\n",
        "  for _ in range(26):\n",
        "    net.add(Residual_v2_bottleneck(256))\n",
        "  #block5\n",
        "  net.add(nn.BatchNorm(),\n",
        "          nn.Activation('relu'),\n",
        "          nn.GlobalAvgPool2D(),\n",
        "          nn.Dense(num_classes))\n",
        "  return net "
      ],
      "execution_count": 0,
      "outputs": []
    },
    {
      "cell_type": "markdown",
      "metadata": {
        "id": "lI8sTua-dLKn",
        "colab_type": "text"
      },
      "source": [
        "Getting Network"
      ]
    },
    {
      "cell_type": "code",
      "metadata": {
        "id": "d_7bw5mCcvTn",
        "colab_type": "code",
        "colab": {}
      },
      "source": [
        "def get_net(ctx):\n",
        "    num_classes = 10\n",
        "    net = ResNet164_v2(num_classes) #net = resnet18(num_classes)\n",
        "    net.initialize(ctx=ctx, init=init.Xavier())\n",
        "    return net\n",
        "\n",
        "loss = gloss.SoftmaxCrossEntropyLoss()"
      ],
      "execution_count": 0,
      "outputs": []
    },
    {
      "cell_type": "markdown",
      "metadata": {
        "id": "NcVZwM9odIJ-",
        "colab_type": "text"
      },
      "source": [
        "Training Function"
      ]
    },
    {
      "cell_type": "code",
      "metadata": {
        "id": "aBDbmQqccybn",
        "colab_type": "code",
        "colab": {}
      },
      "source": [
        "def train(net, train_iter, valid_iter, num_epochs, lr, wd, ctx, lr_period,\n",
        "          lr_decay):\n",
        "    trainer = gluon.Trainer(net.collect_params(), 'sgd',\n",
        "                            {'learning_rate': lr, 'momentum': 0.9, 'wd': wd})\n",
        "    # print('1')\n",
        "    for epoch in range(num_epochs):\n",
        "        # print('2')\n",
        "        train_l_sum, train_acc_sum, n, start = 0.0, 0.0, 0, time.time()\n",
        "        if epoch > 0 and epoch % lr_period == 0:\n",
        "            trainer.set_learning_rate(trainer.learning_rate * lr_decay)\n",
        "            # print('3')\n",
        "        for X, y in train_iter:\n",
        "            y = y.astype('float32').as_in_context(ctx)\n",
        "            with autograd.record():\n",
        "                # print('4')\n",
        "                y_hat = net(X.as_in_context(ctx))\n",
        "                # print('5')\n",
        "                l = loss(y_hat, y).sum()\n",
        "                # print('6')\n",
        "            l.backward()\n",
        "            # print('7')\n",
        "            trainer.step(batch_size)\n",
        "            # print('8')\n",
        "            train_l_sum += l.asscalar()\n",
        "            # print('9')\n",
        "            train_acc_sum += (y_hat.argmax(axis=1) == y).sum().asscalar()\n",
        "            # print('10')\n",
        "            n += y.size\n",
        "        time_s = \"time %.2f sec\" % (time.time() - start)\n",
        "        if valid_iter is not None:\n",
        "            valid_acc = d2l.evaluate_accuracy(valid_iter, net, ctx)\n",
        "            epoch_s = (\"epoch %d, loss %f, train acc %f, valid acc %f, \"\n",
        "                       % (epoch + 1, train_l_sum / n, train_acc_sum / n,\n",
        "                          valid_acc))\n",
        "        else:\n",
        "            epoch_s = (\"epoch %d, loss %f, train acc %f, \" %\n",
        "                       (epoch + 1, train_l_sum / n, train_acc_sum / n))\n",
        "        print(epoch_s + time_s + ', lr ' + str(trainer.learning_rate))"
      ],
      "execution_count": 0,
      "outputs": []
    },
    {
      "cell_type": "code",
      "metadata": {
        "id": "Hdy2FVevc62-",
        "colab_type": "code",
        "colab": {}
      },
      "source": [
        "ctx, num_epochs, lr, wd = d2l.try_gpu(), 200, 0.1, 1e-4\n",
        "lr_period, lr_decay = 90, 0.1\n",
        "#net = get_net(ctx)\n",
        "# net.hybridize()\n",
        "# train(net, train_iter, valid_iter, num_epochs, lr, wd, ctx, lr_period, lr_decay)"
      ],
      "execution_count": 0,
      "outputs": []
    },
    {
      "cell_type": "markdown",
      "metadata": {
        "id": "LRijRxeWdOVo",
        "colab_type": "text"
      },
      "source": [
        "Training the train_valid dataset and predict the test dataset "
      ]
    },
    {
      "cell_type": "code",
      "metadata": {
        "id": "_DjAhORyc6zP",
        "colab_type": "code",
        "colab": {
          "base_uri": "https://localhost:8080/",
          "height": 1000
        },
        "outputId": "6d435f3e-116d-4b0e-be86-6df96392ec34"
      },
      "source": [
        "net, preds = get_net(ctx), []\n",
        "net.hybridize()\n",
        "train(net, train_valid_iter, None, num_epochs, lr, wd, ctx, lr_period, lr_decay)"
      ],
      "execution_count": 27,
      "outputs": [
        {
          "output_type": "stream",
          "text": [
            "epoch 1, loss 1.656112, train acc 0.392140, time 193.11 sec, lr 0.1\n",
            "epoch 2, loss 1.081470, train acc 0.616500, time 138.85 sec, lr 0.1\n",
            "epoch 3, loss 0.859246, train acc 0.702620, time 138.83 sec, lr 0.1\n",
            "epoch 4, loss 0.738366, train acc 0.743240, time 138.09 sec, lr 0.1\n",
            "epoch 5, loss 0.661614, train acc 0.770140, time 138.18 sec, lr 0.1\n",
            "epoch 6, loss 0.607905, train acc 0.788820, time 138.64 sec, lr 0.1\n",
            "epoch 7, loss 0.564046, train acc 0.804520, time 137.82 sec, lr 0.1\n",
            "epoch 8, loss 0.530162, train acc 0.817940, time 137.52 sec, lr 0.1\n",
            "epoch 9, loss 0.500917, train acc 0.825220, time 137.57 sec, lr 0.1\n",
            "epoch 10, loss 0.480484, train acc 0.834420, time 137.09 sec, lr 0.1\n",
            "epoch 11, loss 0.465164, train acc 0.839660, time 137.13 sec, lr 0.1\n",
            "epoch 12, loss 0.441030, train acc 0.849040, time 137.21 sec, lr 0.1\n",
            "epoch 13, loss 0.427432, train acc 0.851180, time 137.15 sec, lr 0.1\n",
            "epoch 14, loss 0.411341, train acc 0.858820, time 137.25 sec, lr 0.1\n",
            "epoch 15, loss 0.397936, train acc 0.863540, time 138.29 sec, lr 0.1\n",
            "epoch 16, loss 0.385147, train acc 0.866660, time 138.50 sec, lr 0.1\n",
            "epoch 17, loss 0.382133, train acc 0.866300, time 138.45 sec, lr 0.1\n",
            "epoch 18, loss 0.369933, train acc 0.871780, time 138.22 sec, lr 0.1\n",
            "epoch 19, loss 0.360597, train acc 0.875440, time 138.27 sec, lr 0.1\n",
            "epoch 20, loss 0.353500, train acc 0.876760, time 137.21 sec, lr 0.1\n",
            "epoch 21, loss 0.347878, train acc 0.878760, time 136.55 sec, lr 0.1\n",
            "epoch 22, loss 0.343414, train acc 0.880700, time 136.97 sec, lr 0.1\n",
            "epoch 23, loss 0.335508, train acc 0.883580, time 136.63 sec, lr 0.1\n",
            "epoch 24, loss 0.333105, train acc 0.882560, time 136.64 sec, lr 0.1\n",
            "epoch 25, loss 0.319959, train acc 0.889040, time 138.05 sec, lr 0.1\n",
            "epoch 26, loss 0.316751, train acc 0.889940, time 138.17 sec, lr 0.1\n",
            "epoch 27, loss 0.319672, train acc 0.889360, time 138.14 sec, lr 0.1\n",
            "epoch 28, loss 0.314401, train acc 0.889660, time 137.82 sec, lr 0.1\n",
            "epoch 29, loss 0.309025, train acc 0.892780, time 137.69 sec, lr 0.1\n",
            "epoch 30, loss 0.305174, train acc 0.893220, time 137.16 sec, lr 0.1\n",
            "epoch 31, loss 0.299358, train acc 0.895480, time 137.96 sec, lr 0.1\n",
            "epoch 32, loss 0.301809, train acc 0.894340, time 137.87 sec, lr 0.1\n",
            "epoch 33, loss 0.286452, train acc 0.901400, time 136.04 sec, lr 0.1\n",
            "epoch 34, loss 0.293336, train acc 0.896260, time 136.16 sec, lr 0.1\n",
            "epoch 35, loss 0.280032, train acc 0.901960, time 135.78 sec, lr 0.1\n",
            "epoch 36, loss 0.287821, train acc 0.899060, time 136.08 sec, lr 0.1\n",
            "epoch 37, loss 0.281161, train acc 0.901520, time 136.53 sec, lr 0.1\n",
            "epoch 38, loss 0.274488, train acc 0.902960, time 135.72 sec, lr 0.1\n",
            "epoch 39, loss 0.278091, train acc 0.902720, time 136.11 sec, lr 0.1\n",
            "epoch 40, loss 0.273705, train acc 0.904240, time 137.39 sec, lr 0.1\n",
            "epoch 41, loss 0.273437, train acc 0.904300, time 137.54 sec, lr 0.1\n",
            "epoch 42, loss 0.268315, train acc 0.907140, time 137.77 sec, lr 0.1\n",
            "epoch 43, loss 0.266232, train acc 0.906360, time 137.85 sec, lr 0.1\n",
            "epoch 44, loss 0.268858, train acc 0.906960, time 138.18 sec, lr 0.1\n",
            "epoch 45, loss 0.262473, train acc 0.908860, time 137.51 sec, lr 0.1\n",
            "epoch 46, loss 0.263517, train acc 0.907840, time 136.07 sec, lr 0.1\n",
            "epoch 47, loss 0.259163, train acc 0.909540, time 135.49 sec, lr 0.1\n",
            "epoch 48, loss 0.255885, train acc 0.909560, time 135.44 sec, lr 0.1\n",
            "epoch 49, loss 0.257900, train acc 0.910040, time 135.19 sec, lr 0.1\n",
            "epoch 50, loss 0.254840, train acc 0.911280, time 135.02 sec, lr 0.1\n",
            "epoch 51, loss 0.255942, train acc 0.911060, time 136.85 sec, lr 0.1\n",
            "epoch 52, loss 0.249436, train acc 0.913040, time 137.21 sec, lr 0.1\n",
            "epoch 53, loss 0.255095, train acc 0.910860, time 137.61 sec, lr 0.1\n",
            "epoch 54, loss 0.252758, train acc 0.912040, time 137.73 sec, lr 0.1\n",
            "epoch 55, loss 0.250290, train acc 0.912580, time 137.92 sec, lr 0.1\n",
            "epoch 56, loss 0.243306, train acc 0.914780, time 138.25 sec, lr 0.1\n",
            "epoch 57, loss 0.245334, train acc 0.914280, time 135.86 sec, lr 0.1\n",
            "epoch 58, loss 0.241035, train acc 0.916440, time 135.67 sec, lr 0.1\n",
            "epoch 59, loss 0.243233, train acc 0.914760, time 136.04 sec, lr 0.1\n",
            "epoch 60, loss 0.242683, train acc 0.915680, time 135.37 sec, lr 0.1\n",
            "epoch 61, loss 0.239394, train acc 0.915740, time 135.33 sec, lr 0.1\n",
            "epoch 62, loss 0.240560, train acc 0.916820, time 135.17 sec, lr 0.1\n",
            "epoch 63, loss 0.234243, train acc 0.918320, time 135.76 sec, lr 0.1\n",
            "epoch 64, loss 0.242485, train acc 0.916680, time 135.53 sec, lr 0.1\n",
            "epoch 65, loss 0.233678, train acc 0.917600, time 136.74 sec, lr 0.1\n",
            "epoch 66, loss 0.234649, train acc 0.919180, time 137.40 sec, lr 0.1\n",
            "epoch 67, loss 0.229462, train acc 0.919780, time 137.49 sec, lr 0.1\n",
            "epoch 68, loss 0.232519, train acc 0.919840, time 138.02 sec, lr 0.1\n",
            "epoch 69, loss 0.226986, train acc 0.920820, time 138.12 sec, lr 0.1\n",
            "epoch 70, loss 0.231815, train acc 0.919620, time 138.54 sec, lr 0.1\n",
            "epoch 71, loss 0.228599, train acc 0.919920, time 136.99 sec, lr 0.1\n",
            "epoch 72, loss 0.227971, train acc 0.920620, time 136.27 sec, lr 0.1\n",
            "epoch 73, loss 0.226101, train acc 0.921720, time 136.05 sec, lr 0.1\n",
            "epoch 74, loss 0.228360, train acc 0.920720, time 135.52 sec, lr 0.1\n",
            "epoch 75, loss 0.224344, train acc 0.922280, time 135.65 sec, lr 0.1\n",
            "epoch 76, loss 0.227016, train acc 0.919980, time 135.37 sec, lr 0.1\n",
            "epoch 77, loss 0.223513, train acc 0.921900, time 136.68 sec, lr 0.1\n",
            "epoch 78, loss 0.220599, train acc 0.924340, time 137.26 sec, lr 0.1\n",
            "epoch 79, loss 0.221854, train acc 0.922560, time 137.98 sec, lr 0.1\n",
            "epoch 80, loss 0.214749, train acc 0.924600, time 138.02 sec, lr 0.1\n",
            "epoch 81, loss 0.220082, train acc 0.923600, time 136.81 sec, lr 0.1\n",
            "epoch 82, loss 0.216251, train acc 0.923520, time 136.64 sec, lr 0.1\n",
            "epoch 83, loss 0.218662, train acc 0.923880, time 137.88 sec, lr 0.1\n",
            "epoch 84, loss 0.214049, train acc 0.925620, time 138.07 sec, lr 0.1\n",
            "epoch 85, loss 0.218684, train acc 0.922020, time 137.89 sec, lr 0.1\n",
            "epoch 86, loss 0.210086, train acc 0.927380, time 138.17 sec, lr 0.1\n",
            "epoch 87, loss 0.213028, train acc 0.925760, time 137.72 sec, lr 0.1\n",
            "epoch 88, loss 0.215978, train acc 0.923920, time 137.11 sec, lr 0.1\n",
            "epoch 89, loss 0.212019, train acc 0.926880, time 138.05 sec, lr 0.1\n",
            "epoch 90, loss 0.212434, train acc 0.925040, time 138.36 sec, lr 0.1\n",
            "epoch 91, loss 0.127799, train acc 0.956820, time 138.13 sec, lr 0.010000000000000002\n",
            "epoch 92, loss 0.080540, train acc 0.974800, time 137.89 sec, lr 0.010000000000000002\n",
            "epoch 93, loss 0.065439, train acc 0.979840, time 138.04 sec, lr 0.010000000000000002\n",
            "epoch 94, loss 0.057591, train acc 0.982000, time 138.05 sec, lr 0.010000000000000002\n",
            "epoch 95, loss 0.052168, train acc 0.983740, time 138.77 sec, lr 0.010000000000000002\n",
            "epoch 96, loss 0.047519, train acc 0.984860, time 137.96 sec, lr 0.010000000000000002\n",
            "epoch 97, loss 0.046512, train acc 0.985520, time 138.62 sec, lr 0.010000000000000002\n",
            "epoch 98, loss 0.041332, train acc 0.987300, time 138.49 sec, lr 0.010000000000000002\n",
            "epoch 99, loss 0.037719, train acc 0.988680, time 138.62 sec, lr 0.010000000000000002\n",
            "epoch 100, loss 0.035726, train acc 0.988620, time 137.48 sec, lr 0.010000000000000002\n",
            "epoch 101, loss 0.033803, train acc 0.989500, time 136.78 sec, lr 0.010000000000000002\n",
            "epoch 102, loss 0.030658, train acc 0.991080, time 137.22 sec, lr 0.010000000000000002\n",
            "epoch 103, loss 0.029527, train acc 0.991260, time 136.83 sec, lr 0.010000000000000002\n",
            "epoch 104, loss 0.029642, train acc 0.991340, time 136.95 sec, lr 0.010000000000000002\n",
            "epoch 105, loss 0.028607, train acc 0.990960, time 136.38 sec, lr 0.010000000000000002\n",
            "epoch 106, loss 0.025520, train acc 0.992320, time 136.11 sec, lr 0.010000000000000002\n",
            "epoch 107, loss 0.025881, train acc 0.992240, time 136.40 sec, lr 0.010000000000000002\n",
            "epoch 108, loss 0.026124, train acc 0.991980, time 136.75 sec, lr 0.010000000000000002\n",
            "epoch 109, loss 0.024994, train acc 0.992740, time 135.83 sec, lr 0.010000000000000002\n",
            "epoch 110, loss 0.022544, train acc 0.993660, time 135.83 sec, lr 0.010000000000000002\n",
            "epoch 111, loss 0.022221, train acc 0.993480, time 136.19 sec, lr 0.010000000000000002\n",
            "epoch 112, loss 0.020967, train acc 0.993720, time 135.80 sec, lr 0.010000000000000002\n",
            "epoch 113, loss 0.020514, train acc 0.993840, time 136.03 sec, lr 0.010000000000000002\n",
            "epoch 114, loss 0.021359, train acc 0.993780, time 136.30 sec, lr 0.010000000000000002\n",
            "epoch 115, loss 0.019026, train acc 0.994340, time 136.48 sec, lr 0.010000000000000002\n",
            "epoch 116, loss 0.019278, train acc 0.994320, time 136.28 sec, lr 0.010000000000000002\n",
            "epoch 117, loss 0.018896, train acc 0.994480, time 136.17 sec, lr 0.010000000000000002\n",
            "epoch 118, loss 0.018537, train acc 0.994300, time 135.90 sec, lr 0.010000000000000002\n",
            "epoch 119, loss 0.018051, train acc 0.994880, time 135.79 sec, lr 0.010000000000000002\n",
            "epoch 120, loss 0.017033, train acc 0.994860, time 136.30 sec, lr 0.010000000000000002\n",
            "epoch 121, loss 0.017983, train acc 0.994560, time 136.08 sec, lr 0.010000000000000002\n",
            "epoch 122, loss 0.016998, train acc 0.995220, time 136.44 sec, lr 0.010000000000000002\n",
            "epoch 123, loss 0.017293, train acc 0.995000, time 136.22 sec, lr 0.010000000000000002\n",
            "epoch 124, loss 0.015831, train acc 0.995360, time 136.67 sec, lr 0.010000000000000002\n",
            "epoch 125, loss 0.016782, train acc 0.994720, time 135.83 sec, lr 0.010000000000000002\n",
            "epoch 126, loss 0.016642, train acc 0.995080, time 135.20 sec, lr 0.010000000000000002\n",
            "epoch 127, loss 0.014995, train acc 0.995600, time 136.36 sec, lr 0.010000000000000002\n",
            "epoch 128, loss 0.015349, train acc 0.995580, time 136.54 sec, lr 0.010000000000000002\n",
            "epoch 129, loss 0.015197, train acc 0.995500, time 136.63 sec, lr 0.010000000000000002\n",
            "epoch 130, loss 0.015880, train acc 0.995060, time 135.68 sec, lr 0.010000000000000002\n",
            "epoch 131, loss 0.016867, train acc 0.995040, time 136.10 sec, lr 0.010000000000000002\n",
            "epoch 132, loss 0.014321, train acc 0.995800, time 135.55 sec, lr 0.010000000000000002\n",
            "epoch 133, loss 0.013512, train acc 0.995880, time 135.76 sec, lr 0.010000000000000002\n",
            "epoch 134, loss 0.015432, train acc 0.995280, time 136.24 sec, lr 0.010000000000000002\n",
            "epoch 135, loss 0.014148, train acc 0.995720, time 136.59 sec, lr 0.010000000000000002\n",
            "epoch 136, loss 0.012950, train acc 0.996380, time 135.88 sec, lr 0.010000000000000002\n",
            "epoch 137, loss 0.013730, train acc 0.996300, time 135.56 sec, lr 0.010000000000000002\n",
            "epoch 138, loss 0.012478, train acc 0.996380, time 135.75 sec, lr 0.010000000000000002\n",
            "epoch 139, loss 0.013738, train acc 0.996060, time 135.63 sec, lr 0.010000000000000002\n",
            "epoch 140, loss 0.013098, train acc 0.996380, time 135.82 sec, lr 0.010000000000000002\n",
            "epoch 141, loss 0.013650, train acc 0.996080, time 135.07 sec, lr 0.010000000000000002\n",
            "epoch 142, loss 0.012708, train acc 0.996420, time 135.58 sec, lr 0.010000000000000002\n",
            "epoch 143, loss 0.013229, train acc 0.996340, time 135.34 sec, lr 0.010000000000000002\n",
            "epoch 144, loss 0.013550, train acc 0.996080, time 135.33 sec, lr 0.010000000000000002\n",
            "epoch 145, loss 0.013673, train acc 0.995920, time 135.40 sec, lr 0.010000000000000002\n",
            "epoch 146, loss 0.012746, train acc 0.996180, time 134.97 sec, lr 0.010000000000000002\n",
            "epoch 147, loss 0.013860, train acc 0.995700, time 135.01 sec, lr 0.010000000000000002\n",
            "epoch 148, loss 0.013446, train acc 0.995980, time 135.12 sec, lr 0.010000000000000002\n",
            "epoch 149, loss 0.012332, train acc 0.996540, time 134.93 sec, lr 0.010000000000000002\n",
            "epoch 150, loss 0.012489, train acc 0.996380, time 134.97 sec, lr 0.010000000000000002\n",
            "epoch 151, loss 0.011724, train acc 0.996880, time 135.19 sec, lr 0.010000000000000002\n",
            "epoch 152, loss 0.011856, train acc 0.996260, time 135.12 sec, lr 0.010000000000000002\n",
            "epoch 153, loss 0.011246, train acc 0.996800, time 135.05 sec, lr 0.010000000000000002\n",
            "epoch 154, loss 0.011785, train acc 0.996760, time 134.90 sec, lr 0.010000000000000002\n",
            "epoch 155, loss 0.012959, train acc 0.996040, time 134.57 sec, lr 0.010000000000000002\n",
            "epoch 156, loss 0.011950, train acc 0.996680, time 135.38 sec, lr 0.010000000000000002\n",
            "epoch 157, loss 0.012327, train acc 0.996460, time 135.07 sec, lr 0.010000000000000002\n",
            "epoch 158, loss 0.011962, train acc 0.996340, time 135.09 sec, lr 0.010000000000000002\n",
            "epoch 159, loss 0.012270, train acc 0.996200, time 134.86 sec, lr 0.010000000000000002\n",
            "epoch 160, loss 0.012032, train acc 0.996520, time 134.90 sec, lr 0.010000000000000002\n",
            "epoch 161, loss 0.010907, train acc 0.996960, time 134.96 sec, lr 0.010000000000000002\n",
            "epoch 162, loss 0.012312, train acc 0.996440, time 135.02 sec, lr 0.010000000000000002\n",
            "epoch 163, loss 0.012304, train acc 0.996540, time 135.44 sec, lr 0.010000000000000002\n",
            "epoch 164, loss 0.011517, train acc 0.996820, time 135.56 sec, lr 0.010000000000000002\n",
            "epoch 165, loss 0.010802, train acc 0.996700, time 135.04 sec, lr 0.010000000000000002\n",
            "epoch 166, loss 0.011828, train acc 0.996660, time 135.43 sec, lr 0.010000000000000002\n",
            "epoch 167, loss 0.010904, train acc 0.996700, time 135.23 sec, lr 0.010000000000000002\n",
            "epoch 168, loss 0.010945, train acc 0.996840, time 135.37 sec, lr 0.010000000000000002\n",
            "epoch 169, loss 0.012278, train acc 0.996480, time 134.87 sec, lr 0.010000000000000002\n",
            "epoch 170, loss 0.011577, train acc 0.996520, time 135.18 sec, lr 0.010000000000000002\n",
            "epoch 171, loss 0.011696, train acc 0.996720, time 135.02 sec, lr 0.010000000000000002\n",
            "epoch 172, loss 0.013105, train acc 0.995980, time 134.83 sec, lr 0.010000000000000002\n",
            "epoch 173, loss 0.011899, train acc 0.996760, time 135.35 sec, lr 0.010000000000000002\n",
            "epoch 174, loss 0.011131, train acc 0.996660, time 135.00 sec, lr 0.010000000000000002\n",
            "epoch 175, loss 0.011890, train acc 0.996620, time 134.73 sec, lr 0.010000000000000002\n",
            "epoch 176, loss 0.011566, train acc 0.996680, time 134.86 sec, lr 0.010000000000000002\n",
            "epoch 177, loss 0.012310, train acc 0.996360, time 134.90 sec, lr 0.010000000000000002\n",
            "epoch 178, loss 0.013990, train acc 0.996200, time 134.65 sec, lr 0.010000000000000002\n",
            "epoch 179, loss 0.011991, train acc 0.996460, time 134.65 sec, lr 0.010000000000000002\n",
            "epoch 180, loss 0.010539, train acc 0.996900, time 135.58 sec, lr 0.010000000000000002\n",
            "epoch 181, loss 0.009335, train acc 0.997640, time 134.88 sec, lr 0.0010000000000000002\n",
            "epoch 182, loss 0.007671, train acc 0.997700, time 135.65 sec, lr 0.0010000000000000002\n",
            "epoch 183, loss 0.007310, train acc 0.998140, time 135.29 sec, lr 0.0010000000000000002\n",
            "epoch 184, loss 0.006445, train acc 0.998540, time 134.69 sec, lr 0.0010000000000000002\n",
            "epoch 185, loss 0.007099, train acc 0.997920, time 134.59 sec, lr 0.0010000000000000002\n",
            "epoch 186, loss 0.006015, train acc 0.998380, time 134.99 sec, lr 0.0010000000000000002\n",
            "epoch 187, loss 0.005419, train acc 0.998800, time 134.65 sec, lr 0.0010000000000000002\n",
            "epoch 188, loss 0.005717, train acc 0.998740, time 135.02 sec, lr 0.0010000000000000002\n",
            "epoch 189, loss 0.006336, train acc 0.998360, time 135.02 sec, lr 0.0010000000000000002\n",
            "epoch 190, loss 0.005553, train acc 0.998680, time 135.53 sec, lr 0.0010000000000000002\n",
            "epoch 191, loss 0.005166, train acc 0.998660, time 135.95 sec, lr 0.0010000000000000002\n",
            "epoch 192, loss 0.005465, train acc 0.998760, time 134.98 sec, lr 0.0010000000000000002\n",
            "epoch 193, loss 0.005152, train acc 0.998740, time 134.81 sec, lr 0.0010000000000000002\n",
            "epoch 194, loss 0.005317, train acc 0.998620, time 134.81 sec, lr 0.0010000000000000002\n",
            "epoch 195, loss 0.005319, train acc 0.998440, time 135.01 sec, lr 0.0010000000000000002\n",
            "epoch 196, loss 0.005129, train acc 0.998580, time 134.99 sec, lr 0.0010000000000000002\n",
            "epoch 197, loss 0.004139, train acc 0.998980, time 135.06 sec, lr 0.0010000000000000002\n",
            "epoch 198, loss 0.004644, train acc 0.998800, time 135.34 sec, lr 0.0010000000000000002\n",
            "epoch 199, loss 0.004185, train acc 0.999040, time 135.71 sec, lr 0.0010000000000000002\n",
            "epoch 200, loss 0.004943, train acc 0.998640, time 135.66 sec, lr 0.0010000000000000002\n"
          ],
          "name": "stdout"
        }
      ]
    },
    {
      "cell_type": "code",
      "metadata": {
        "id": "9tEc5OkFdBg1",
        "colab_type": "code",
        "colab": {}
      },
      "source": [
        "for X, _ in test_iter:\n",
        "    y_hat = net(X.as_in_context(ctx))\n",
        "    preds.extend(y_hat.argmax(axis=1).astype(int).asnumpy())\n",
        "sorted_ids = list(range(1, len(test_ds) + 1))\n",
        "sorted_ids.sort(key=lambda x: str(x))\n",
        "df = pd.DataFrame({'id': sorted_ids, 'label': preds})\n",
        "df['label'] = df['label'].apply(lambda x: train_valid_ds.synsets[x])"
      ],
      "execution_count": 0,
      "outputs": []
    },
    {
      "cell_type": "code",
      "metadata": {
        "id": "z5yMXGJQdDHN",
        "colab_type": "code",
        "colab": {}
      },
      "source": [
        "df.to_csv('../cifar/submissions.csv',index=False)"
      ],
      "execution_count": 0,
      "outputs": []
    }
  ]
}