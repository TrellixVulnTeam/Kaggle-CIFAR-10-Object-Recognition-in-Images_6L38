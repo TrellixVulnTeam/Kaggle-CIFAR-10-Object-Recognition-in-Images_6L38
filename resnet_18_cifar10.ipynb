{
  "nbformat": 4,
  "nbformat_minor": 0,
  "metadata": {
    "colab": {
      "name": "CIFAR-10_Kaggle.ipynb",
      "provenance": []
    },
    "kernelspec": {
      "name": "python3",
      "display_name": "Python 3"
    },
    "accelerator": "GPU"
  },
  "cells": [
    {
      "cell_type": "code",
      "metadata": {
        "id": "oIM4vWjwd2lv",
        "colab_type": "code",
        "colab": {}
      },
      "source": [
        "!pip install d2lzh  # installing d2l\n",
        "!pip install -U --pre mxnet-cu101mkl  # updating mxnet to at least v1.6"
      ],
      "execution_count": 0,
      "outputs": []
    },
    {
      "cell_type": "code",
      "metadata": {
        "id": "Hs_hX3BMd46c",
        "colab_type": "code",
        "colab": {}
      },
      "source": [
        "import d2lzh as d2l\n",
        "from mxnet import autograd, gluon, init\n",
        "from mxnet.gluon import data as gdata, loss as gloss, nn\n",
        "import os\n",
        "import pandas as pd\n",
        "import shutil\n",
        "import time"
      ],
      "execution_count": 0,
      "outputs": []
    },
    {
      "cell_type": "code",
      "metadata": {
        "id": "pFlAnB7zd7FG",
        "colab_type": "code",
        "colab": {}
      },
      "source": [
        "import tarfile"
      ],
      "execution_count": 0,
      "outputs": []
    },
    {
      "cell_type": "code",
      "metadata": {
        "id": "-AtWEzx0fFU1",
        "colab_type": "code",
        "colab": {}
      },
      "source": [
        "tf = tarfile.open(\"../cifar/cifar.tar\")\n",
        "tf.extractall('../cifar/')"
      ],
      "execution_count": 0,
      "outputs": []
    },
    {
      "cell_type": "code",
      "metadata": {
        "id": "dG6mtazId8sF",
        "colab_type": "code",
        "colab": {}
      },
      "source": [
        "def read_label_file(data_dir, label_file, train_dir, valid_ratio):\n",
        "    with open(os.path.join(data_dir, label_file), 'r') as f:\n",
        "        lines = f.readlines()[1:]\n",
        "        tokens = [l.rstrip().split(',') for l in lines]\n",
        "        idx_label = dict(((int(idx), label) for idx, label in tokens))\n",
        "    labels = set(idx_label.values())\n",
        "    n_train_valid = len(os.listdir(os.path.join(data_dir, train_dir)))\n",
        "    n_train = int(n_train_valid * (1 - valid_ratio))\n",
        "    assert 0 < n_train < n_train_valid\n",
        "    return n_train // len(labels), idx_label"
      ],
      "execution_count": 0,
      "outputs": []
    },
    {
      "cell_type": "code",
      "metadata": {
        "id": "-w97MFDcd-VO",
        "colab_type": "code",
        "colab": {}
      },
      "source": [
        "def mkdir_if_not_exist(path):  \n",
        "    if not os.path.exists(os.path.join(*path)):\n",
        "        os.makedirs(os.path.join(*path))"
      ],
      "execution_count": 0,
      "outputs": []
    },
    {
      "cell_type": "markdown",
      "metadata": {
        "id": "8pUZEVmFeEc4",
        "colab_type": "text"
      },
      "source": [
        "The below functions separate the original training dataset to several datasets \"train\", \"valid\", \"train_valid\", and \"test\"."
      ]
    },
    {
      "cell_type": "code",
      "metadata": {
        "id": "nu5RuJV8eF_z",
        "colab_type": "code",
        "colab": {}
      },
      "source": [
        "def reorg_train_valid(data_dir, train_dir, input_dir, n_train_per_label,\n",
        "                      idx_label):\n",
        "    label_count = {}\n",
        "    for train_file in os.listdir(os.path.join(data_dir, train_dir)):\n",
        "        idx = int(train_file.split('.')[0])\n",
        "        label = idx_label[idx]\n",
        "        mkdir_if_not_exist([data_dir, input_dir, 'train_valid', label])\n",
        "        shutil.copy(os.path.join(data_dir, train_dir, train_file),\n",
        "                    os.path.join(data_dir, input_dir, 'train_valid', label))\n",
        "        if label not in label_count or label_count[label] < n_train_per_label:\n",
        "            mkdir_if_not_exist([data_dir, input_dir, 'train', label])\n",
        "            shutil.copy(os.path.join(data_dir, train_dir, train_file),\n",
        "                        os.path.join(data_dir, input_dir, 'train', label))\n",
        "            label_count[label] = label_count.get(label, 0) + 1\n",
        "        else:\n",
        "            mkdir_if_not_exist([data_dir, input_dir, 'valid', label])\n",
        "            shutil.copy(os.path.join(data_dir, train_dir, train_file),\n",
        "                        os.path.join(data_dir, input_dir, 'valid', label))"
      ],
      "execution_count": 0,
      "outputs": []
    },
    {
      "cell_type": "code",
      "metadata": {
        "id": "YYE62lHLeHfz",
        "colab_type": "code",
        "colab": {}
      },
      "source": [
        "def reorg_test(data_dir, test_dir, input_dir):\n",
        "    mkdir_if_not_exist([data_dir, input_dir, 'test', 'unknown'])\n",
        "    for test_file in os.listdir(os.path.join(data_dir, test_dir)):\n",
        "        shutil.copy(os.path.join(data_dir, test_dir, test_file),\n",
        "                    os.path.join(data_dir, input_dir, 'test', 'unknown'))"
      ],
      "execution_count": 0,
      "outputs": []
    },
    {
      "cell_type": "code",
      "metadata": {
        "id": "7YDJy4RueIyy",
        "colab_type": "code",
        "colab": {}
      },
      "source": [
        "def reorg_cifar10_data(data_dir, label_file, train_dir, test_dir, input_dir,\n",
        "                       valid_ratio):\n",
        "    n_train_per_label, idx_label = read_label_file(data_dir, label_file,\n",
        "                                                   train_dir, valid_ratio)\n",
        "    reorg_train_valid(data_dir, train_dir, input_dir, n_train_per_label,\n",
        "                      idx_label)\n",
        "    reorg_test(data_dir, test_dir, input_dir)"
      ],
      "execution_count": 0,
      "outputs": []
    },
    {
      "cell_type": "code",
      "metadata": {
        "id": "0Wx3TS6meKPR",
        "colab_type": "code",
        "colab": {}
      },
      "source": [
        "demo = False"
      ],
      "execution_count": 0,
      "outputs": []
    },
    {
      "cell_type": "code",
      "metadata": {
        "id": "uwCj9dUEeLtL",
        "colab_type": "code",
        "colab": {}
      },
      "source": [
        "if demo:\n",
        "    train_dir, test_dir, batch_size = 'train_tiny', 'test_tiny', 1\n",
        "else:\n",
        "    train_dir, test_dir, batch_size = 'train', 'test', 128\n",
        "data_dir, label_file = '../cifar/', 'trainLabels.csv'\n",
        "input_dir, valid_ratio = 'train_valid_test', 0.1\n",
        "reorg_cifar10_data(data_dir, label_file, train_dir, test_dir, input_dir,\n",
        "                   valid_ratio)"
      ],
      "execution_count": 0,
      "outputs": []
    },
    {
      "cell_type": "code",
      "metadata": {
        "id": "S5pODW9LeM6g",
        "colab_type": "code",
        "colab": {}
      },
      "source": [
        "transform_train = gdata.vision.transforms.Compose([\n",
        "  gdata.vision.transforms.Resize(40),\n",
        "  gdata.vision.transforms.RandomBrightness(0.5),\n",
        "  gdata.vision.transforms.RandomHue(0.5),\n",
        "  gdata.vision.transforms.RandomResizedCrop(32, scale=(0.64, 1.0), ratio=(1.0,1.0)),\n",
        "  gdata.vision.transforms.RandomFlipLeftRight(),\n",
        "  gdata.vision.transforms.ToTensor(),\n",
        "  gdata.vision.transforms.Normalize([0.4914, 0.4822, 0.4465],\n",
        "                                    [0.2023, 0.1994, 0.2010])\n",
        "])"
      ],
      "execution_count": 0,
      "outputs": []
    },
    {
      "cell_type": "code",
      "metadata": {
        "id": "GkVOwMDXeOB1",
        "colab_type": "code",
        "colab": {}
      },
      "source": [
        "transform_test = gdata.vision.transforms.Compose([\n",
        "  gdata.vision.transforms.ToTensor(),\n",
        "  gdata.vision.transforms.Normalize([0.4914, 0.4822, 0.4465],\n",
        "                                    [0.2023, 0.1994, 0.2010])\n",
        "])"
      ],
      "execution_count": 0,
      "outputs": []
    },
    {
      "cell_type": "code",
      "metadata": {
        "id": "6TiourMaePDN",
        "colab_type": "code",
        "colab": {}
      },
      "source": [
        "train_ds = gdata.vision.ImageFolderDataset(\n",
        "    os.path.join(data_dir, input_dir, 'train'), flag=1)\n",
        "valid_ds = gdata.vision.ImageFolderDataset(\n",
        "    os.path.join(data_dir, input_dir, 'valid'), flag=1)\n",
        "train_valid_ds = gdata.vision.ImageFolderDataset(\n",
        "    os.path.join(data_dir, input_dir, 'train_valid'), flag=1)\n",
        "test_ds = gdata.vision.ImageFolderDataset(\n",
        "    os.path.join(data_dir, input_dir, 'test'), flag=1)"
      ],
      "execution_count": 0,
      "outputs": []
    },
    {
      "cell_type": "code",
      "metadata": {
        "id": "G2kr6BhOeRA_",
        "colab_type": "code",
        "colab": {}
      },
      "source": [
        "train_iter = gdata.DataLoader(train_ds.transform_first(transform_train),\n",
        "                              batch_size, shuffle=True, last_batch='keep')\n",
        "valid_iter = gdata.DataLoader(valid_ds.transform_first(transform_test),\n",
        "                              batch_size, shuffle=True, last_batch='keep')\n",
        "train_valid_iter = gdata.DataLoader(train_valid_ds.transform_first(\n",
        "    transform_train), batch_size, shuffle=True, last_batch='keep')\n",
        "test_iter = gdata.DataLoader(test_ds.transform_first(transform_test),\n",
        "                             batch_size, shuffle=False, last_batch='keep')"
      ],
      "execution_count": 0,
      "outputs": []
    },
    {
      "cell_type": "markdown",
      "metadata": {
        "id": "wk7CUH79eURC",
        "colab_type": "text"
      },
      "source": [
        "Define Resnet-18 model"
      ]
    },
    {
      "cell_type": "code",
      "metadata": {
        "id": "RMOyo4ALeR1T",
        "colab_type": "code",
        "colab": {}
      },
      "source": [
        "class Residual(nn.HybridBlock):\n",
        "    def __init__(self, num_channels, use_1x1conv=False, strides=1, **kwargs):\n",
        "        super(Residual, self).__init__(**kwargs)\n",
        "        self.conv1 = nn.Conv2D(num_channels, kernel_size=3, padding=1,\n",
        "                               strides=strides)\n",
        "        self.conv2 = nn.Conv2D(num_channels, kernel_size=3, padding=1)\n",
        "        if use_1x1conv:\n",
        "            self.conv3 = nn.Conv2D(num_channels, kernel_size=1,\n",
        "                                   strides=strides)\n",
        "        else:\n",
        "            self.conv3 = None\n",
        "        self.bn1 = nn.BatchNorm()\n",
        "        self.bn2 = nn.BatchNorm()\n",
        "\n",
        "    def hybrid_forward(self, F, X):\n",
        "        Y = F.relu(self.bn1(self.conv1(X)))\n",
        "        Y = self.bn2(self.conv2(Y))\n",
        "        if self.conv3:\n",
        "            X = self.conv3(X)\n",
        "        return F.relu(Y + X)"
      ],
      "execution_count": 0,
      "outputs": []
    },
    {
      "cell_type": "code",
      "metadata": {
        "id": "rdXTpxqDeS3A",
        "colab_type": "code",
        "colab": {}
      },
      "source": [
        "def resnet18(num_classes):\n",
        "    net = nn.HybridSequential()\n",
        "    net.add(nn.Conv2D(64, kernel_size=3, strides=1, padding=1),\n",
        "            nn.BatchNorm(), nn.Activation('relu'))\n",
        "\n",
        "    def resnet_block(num_channels, num_residuals, first_block=False):\n",
        "        blk = nn.HybridSequential()\n",
        "        for i in range(num_residuals):\n",
        "            if i == 0 and not first_block:\n",
        "                blk.add(Residual(num_channels, use_1x1conv=True, strides=2))\n",
        "            else:\n",
        "                blk.add(Residual(num_channels))\n",
        "        return blk\n",
        "\n",
        "    net.add(resnet_block(64, 2, first_block=True),\n",
        "            resnet_block(128, 2),\n",
        "            resnet_block(256, 2),\n",
        "            resnet_block(512, 2))\n",
        "    net.add(nn.GlobalAvgPool2D(), nn.Dense(num_classes))\n",
        "    return net"
      ],
      "execution_count": 0,
      "outputs": []
    },
    {
      "cell_type": "markdown",
      "metadata": {
        "id": "WA5lqVfPedMs",
        "colab_type": "text"
      },
      "source": [
        "Getting Network"
      ]
    },
    {
      "cell_type": "code",
      "metadata": {
        "id": "AQr2lScIecp4",
        "colab_type": "code",
        "colab": {}
      },
      "source": [
        "def get_net(ctx):\n",
        "    num_classes = 10\n",
        "    net = resnet18(num_classes)\n",
        "    net.initialize(ctx=ctx, init=init.Xavier())\n",
        "    return net\n",
        "\n",
        "loss = gloss.SoftmaxCrossEntropyLoss()"
      ],
      "execution_count": 0,
      "outputs": []
    },
    {
      "cell_type": "markdown",
      "metadata": {
        "id": "JqMf2jVbeg-u",
        "colab_type": "text"
      },
      "source": [
        "Training Function"
      ]
    },
    {
      "cell_type": "code",
      "metadata": {
        "id": "-cgZDsCeekw4",
        "colab_type": "code",
        "colab": {}
      },
      "source": [
        "def train(net, train_iter, valid_iter, num_epochs, lr, wd, ctx, lr_period,\n",
        "          lr_decay):\n",
        "    trainer = gluon.Trainer(net.collect_params(), 'sgd',\n",
        "                            {'learning_rate': lr, 'momentum': 0.9, 'wd': wd})\n",
        "    # print('1')\n",
        "    for epoch in range(num_epochs):\n",
        "        # print('2')\n",
        "        train_l_sum, train_acc_sum, n, start = 0.0, 0.0, 0, time.time()\n",
        "        if epoch > 0 and epoch % lr_period == 0:\n",
        "            trainer.set_learning_rate(trainer.learning_rate * lr_decay)\n",
        "            # print('3')\n",
        "        for X, y in train_iter:\n",
        "            y = y.astype('float32').as_in_context(ctx)\n",
        "            with autograd.record():\n",
        "                # print('4')\n",
        "                y_hat = net(X.as_in_context(ctx))\n",
        "                # print('5')\n",
        "                l = loss(y_hat, y).sum()\n",
        "                # print('6')\n",
        "            l.backward()\n",
        "            # print('7')\n",
        "            trainer.step(batch_size)\n",
        "            # print('8')\n",
        "            train_l_sum += l.asscalar()\n",
        "            # print('9')\n",
        "            train_acc_sum += (y_hat.argmax(axis=1) == y).sum().asscalar()\n",
        "            # print('10')\n",
        "            n += y.size\n",
        "        time_s = \"time %.2f sec\" % (time.time() - start)\n",
        "        if valid_iter is not None:\n",
        "            valid_acc = d2l.evaluate_accuracy(valid_iter, net, ctx)\n",
        "            epoch_s = (\"epoch %d, loss %f, train acc %f, valid acc %f, \"\n",
        "                       % (epoch + 1, train_l_sum / n, train_acc_sum / n,\n",
        "                          valid_acc))\n",
        "        else:\n",
        "            epoch_s = (\"epoch %d, loss %f, train acc %f, \" %\n",
        "                       (epoch + 1, train_l_sum / n, train_acc_sum / n))\n",
        "        print(epoch_s + time_s + ', lr ' + str(trainer.learning_rate))"
      ],
      "execution_count": 0,
      "outputs": []
    },
    {
      "cell_type": "markdown",
      "metadata": {
        "id": "jy2hlvPKendE",
        "colab_type": "text"
      },
      "source": [
        "Training the model by train dataset and valid dataset separatly"
      ]
    },
    {
      "cell_type": "code",
      "metadata": {
        "id": "zAwDDor8emnJ",
        "colab_type": "code",
        "colab": {}
      },
      "source": [
        "ctx, num_epochs, lr, wd = d2l.try_gpu(), 200, 0.1, 1e-4\n",
        "lr_period, lr_decay = 90, 0.1\n",
        "#net = get_net(ctx)\n",
        "# net.hybridize()\n",
        "# train(net, train_iter, valid_iter, num_epochs, lr, wd, ctx, lr_period, lr_decay)"
      ],
      "execution_count": 0,
      "outputs": []
    },
    {
      "cell_type": "markdown",
      "metadata": {
        "id": "FwOcpJEhe4Kt",
        "colab_type": "text"
      },
      "source": [
        "Training the train_valid dataset and predict the test dataset, and produce a submission.csv file"
      ]
    },
    {
      "cell_type": "code",
      "metadata": {
        "id": "dr8I7fBreyG_",
        "colab_type": "code",
        "colab": {
          "base_uri": "https://localhost:8080/",
          "height": 1000
        },
        "outputId": "390073a9-c8fd-45e8-9230-4bb203eded3b"
      },
      "source": [
        "net, preds = get_net(ctx), []\n",
        "net.hybridize()\n",
        "train(net, train_valid_iter, None, num_epochs, lr, wd, ctx, lr_period, lr_decay)"
      ],
      "execution_count": 26,
      "outputs": [
        {
          "output_type": "stream",
          "text": [
            "epoch 1, loss 2.392159, train acc 0.149960, time 58.49 sec, lr 0.1\n",
            "epoch 2, loss 1.899275, train acc 0.308140, time 56.06 sec, lr 0.1\n",
            "epoch 3, loss 1.655584, train acc 0.401540, time 56.16 sec, lr 0.1\n",
            "epoch 4, loss 1.414079, train acc 0.494260, time 56.21 sec, lr 0.1\n",
            "epoch 5, loss 1.176829, train acc 0.586040, time 56.41 sec, lr 0.1\n",
            "epoch 6, loss 0.981766, train acc 0.655420, time 56.42 sec, lr 0.1\n",
            "epoch 7, loss 0.840443, train acc 0.706300, time 56.13 sec, lr 0.1\n",
            "epoch 8, loss 0.742872, train acc 0.740880, time 56.39 sec, lr 0.1\n",
            "epoch 9, loss 0.669286, train acc 0.767320, time 56.75 sec, lr 0.1\n",
            "epoch 10, loss 0.619769, train acc 0.784840, time 56.96 sec, lr 0.1\n",
            "epoch 11, loss 0.565232, train acc 0.803480, time 55.97 sec, lr 0.1\n",
            "epoch 12, loss 0.523412, train acc 0.819020, time 56.00 sec, lr 0.1\n",
            "epoch 13, loss 0.494675, train acc 0.828140, time 56.22 sec, lr 0.1\n",
            "epoch 14, loss 0.460901, train acc 0.839180, time 56.13 sec, lr 0.1\n",
            "epoch 15, loss 0.434155, train acc 0.849100, time 56.30 sec, lr 0.1\n",
            "epoch 16, loss 0.409822, train acc 0.858020, time 56.71 sec, lr 0.1\n",
            "epoch 17, loss 0.394220, train acc 0.862160, time 56.39 sec, lr 0.1\n",
            "epoch 18, loss 0.371453, train acc 0.869640, time 56.32 sec, lr 0.1\n",
            "epoch 19, loss 0.356544, train acc 0.875860, time 56.26 sec, lr 0.1\n",
            "epoch 20, loss 0.338027, train acc 0.882760, time 56.41 sec, lr 0.1\n",
            "epoch 21, loss 0.331282, train acc 0.885120, time 56.73 sec, lr 0.1\n",
            "epoch 22, loss 0.318651, train acc 0.888180, time 56.30 sec, lr 0.1\n",
            "epoch 23, loss 0.305496, train acc 0.895160, time 56.32 sec, lr 0.1\n",
            "epoch 24, loss 0.293067, train acc 0.898200, time 56.34 sec, lr 0.1\n",
            "epoch 25, loss 0.288362, train acc 0.899280, time 56.59 sec, lr 0.1\n",
            "epoch 26, loss 0.279483, train acc 0.904160, time 56.45 sec, lr 0.1\n",
            "epoch 27, loss 0.271661, train acc 0.904940, time 56.92 sec, lr 0.1\n",
            "epoch 28, loss 0.269300, train acc 0.905560, time 56.39 sec, lr 0.1\n",
            "epoch 29, loss 0.257204, train acc 0.910000, time 56.51 sec, lr 0.1\n",
            "epoch 30, loss 0.254206, train acc 0.912500, time 56.38 sec, lr 0.1\n",
            "epoch 31, loss 0.241770, train acc 0.917700, time 56.57 sec, lr 0.1\n",
            "epoch 32, loss 0.242643, train acc 0.915280, time 56.66 sec, lr 0.1\n",
            "epoch 33, loss 0.236772, train acc 0.917580, time 56.60 sec, lr 0.1\n",
            "epoch 34, loss 0.230540, train acc 0.919840, time 56.40 sec, lr 0.1\n",
            "epoch 35, loss 0.230839, train acc 0.920060, time 56.52 sec, lr 0.1\n",
            "epoch 36, loss 0.217684, train acc 0.924260, time 56.44 sec, lr 0.1\n",
            "epoch 37, loss 0.222054, train acc 0.923880, time 56.57 sec, lr 0.1\n",
            "epoch 38, loss 0.218852, train acc 0.923900, time 56.90 sec, lr 0.1\n",
            "epoch 39, loss 0.202924, train acc 0.930940, time 56.65 sec, lr 0.1\n",
            "epoch 40, loss 0.210762, train acc 0.925860, time 56.45 sec, lr 0.1\n",
            "epoch 41, loss 0.203788, train acc 0.929160, time 56.60 sec, lr 0.1\n",
            "epoch 42, loss 0.202390, train acc 0.929880, time 56.59 sec, lr 0.1\n",
            "epoch 43, loss 0.202499, train acc 0.929800, time 56.78 sec, lr 0.1\n",
            "epoch 44, loss 0.192637, train acc 0.933880, time 56.74 sec, lr 0.1\n",
            "epoch 45, loss 0.192168, train acc 0.933740, time 57.12 sec, lr 0.1\n",
            "epoch 46, loss 0.190617, train acc 0.933480, time 56.86 sec, lr 0.1\n",
            "epoch 47, loss 0.181109, train acc 0.937300, time 56.63 sec, lr 0.1\n",
            "epoch 48, loss 0.186655, train acc 0.935840, time 56.63 sec, lr 0.1\n",
            "epoch 49, loss 0.182150, train acc 0.937220, time 57.16 sec, lr 0.1\n",
            "epoch 50, loss 0.184954, train acc 0.934800, time 56.72 sec, lr 0.1\n",
            "epoch 51, loss 0.185484, train acc 0.936600, time 56.69 sec, lr 0.1\n",
            "epoch 52, loss 0.183601, train acc 0.936580, time 56.75 sec, lr 0.1\n",
            "epoch 53, loss 0.177134, train acc 0.938220, time 56.61 sec, lr 0.1\n",
            "epoch 54, loss 0.173315, train acc 0.941700, time 57.04 sec, lr 0.1\n",
            "epoch 55, loss 0.169772, train acc 0.941120, time 57.06 sec, lr 0.1\n",
            "epoch 56, loss 0.166580, train acc 0.942440, time 56.67 sec, lr 0.1\n",
            "epoch 57, loss 0.167438, train acc 0.942960, time 56.78 sec, lr 0.1\n",
            "epoch 58, loss 0.172877, train acc 0.940360, time 56.83 sec, lr 0.1\n",
            "epoch 59, loss 0.168389, train acc 0.940380, time 56.72 sec, lr 0.1\n",
            "epoch 60, loss 0.168723, train acc 0.941960, time 57.27 sec, lr 0.1\n",
            "epoch 61, loss 0.168985, train acc 0.941640, time 57.07 sec, lr 0.1\n",
            "epoch 62, loss 0.163850, train acc 0.943820, time 56.83 sec, lr 0.1\n",
            "epoch 63, loss 0.165323, train acc 0.942600, time 56.81 sec, lr 0.1\n",
            "epoch 64, loss 0.163690, train acc 0.943840, time 56.94 sec, lr 0.1\n",
            "epoch 65, loss 0.163547, train acc 0.942560, time 57.35 sec, lr 0.1\n",
            "epoch 66, loss 0.158795, train acc 0.945880, time 56.86 sec, lr 0.1\n",
            "epoch 67, loss 0.162316, train acc 0.943860, time 56.87 sec, lr 0.1\n",
            "epoch 68, loss 0.158653, train acc 0.945140, time 56.67 sec, lr 0.1\n",
            "epoch 69, loss 0.153261, train acc 0.947040, time 56.62 sec, lr 0.1\n",
            "epoch 70, loss 0.153368, train acc 0.947820, time 56.79 sec, lr 0.1\n",
            "epoch 71, loss 0.154391, train acc 0.947240, time 57.01 sec, lr 0.1\n",
            "epoch 72, loss 0.152046, train acc 0.947920, time 56.94 sec, lr 0.1\n",
            "epoch 73, loss 0.153892, train acc 0.947200, time 56.76 sec, lr 0.1\n",
            "epoch 74, loss 0.155514, train acc 0.945800, time 56.82 sec, lr 0.1\n",
            "epoch 75, loss 0.155804, train acc 0.945880, time 56.36 sec, lr 0.1\n",
            "epoch 76, loss 0.150724, train acc 0.947880, time 56.94 sec, lr 0.1\n",
            "epoch 77, loss 0.154986, train acc 0.946780, time 56.63 sec, lr 0.1\n",
            "epoch 78, loss 0.147711, train acc 0.949180, time 56.51 sec, lr 0.1\n",
            "epoch 79, loss 0.151852, train acc 0.946940, time 56.50 sec, lr 0.1\n",
            "epoch 80, loss 0.150818, train acc 0.947880, time 56.67 sec, lr 0.1\n",
            "epoch 81, loss 0.148668, train acc 0.947920, time 57.05 sec, lr 0.1\n",
            "epoch 82, loss 0.149161, train acc 0.948440, time 56.78 sec, lr 0.1\n",
            "epoch 83, loss 0.143225, train acc 0.949540, time 56.38 sec, lr 0.1\n",
            "epoch 84, loss 0.151945, train acc 0.947560, time 56.75 sec, lr 0.1\n",
            "epoch 85, loss 0.149437, train acc 0.948480, time 56.69 sec, lr 0.1\n",
            "epoch 86, loss 0.148051, train acc 0.950480, time 56.70 sec, lr 0.1\n",
            "epoch 87, loss 0.142649, train acc 0.951500, time 57.19 sec, lr 0.1\n",
            "epoch 88, loss 0.142813, train acc 0.950720, time 56.65 sec, lr 0.1\n",
            "epoch 89, loss 0.147759, train acc 0.948400, time 56.93 sec, lr 0.1\n",
            "epoch 90, loss 0.149408, train acc 0.948440, time 56.71 sec, lr 0.1\n",
            "epoch 91, loss 0.087794, train acc 0.970900, time 56.66 sec, lr 0.010000000000000002\n",
            "epoch 92, loss 0.052303, train acc 0.983480, time 57.13 sec, lr 0.010000000000000002\n",
            "epoch 93, loss 0.046088, train acc 0.985700, time 56.87 sec, lr 0.010000000000000002\n",
            "epoch 94, loss 0.038816, train acc 0.988320, time 57.00 sec, lr 0.010000000000000002\n",
            "epoch 95, loss 0.034216, train acc 0.989020, time 56.87 sec, lr 0.010000000000000002\n",
            "epoch 96, loss 0.030102, train acc 0.990900, time 56.74 sec, lr 0.010000000000000002\n",
            "epoch 97, loss 0.030423, train acc 0.990600, time 56.71 sec, lr 0.010000000000000002\n",
            "epoch 98, loss 0.027575, train acc 0.991600, time 57.27 sec, lr 0.010000000000000002\n",
            "epoch 99, loss 0.024680, train acc 0.992980, time 56.87 sec, lr 0.010000000000000002\n",
            "epoch 100, loss 0.024294, train acc 0.992740, time 56.85 sec, lr 0.010000000000000002\n",
            "epoch 101, loss 0.022801, train acc 0.993400, time 56.81 sec, lr 0.010000000000000002\n",
            "epoch 102, loss 0.020711, train acc 0.993920, time 56.88 sec, lr 0.010000000000000002\n",
            "epoch 103, loss 0.020487, train acc 0.993660, time 57.26 sec, lr 0.010000000000000002\n",
            "epoch 104, loss 0.019484, train acc 0.994020, time 56.88 sec, lr 0.010000000000000002\n",
            "epoch 105, loss 0.018875, train acc 0.994360, time 56.89 sec, lr 0.010000000000000002\n",
            "epoch 106, loss 0.019201, train acc 0.994460, time 56.86 sec, lr 0.010000000000000002\n",
            "epoch 107, loss 0.015941, train acc 0.995960, time 56.73 sec, lr 0.010000000000000002\n",
            "epoch 108, loss 0.016578, train acc 0.995080, time 56.79 sec, lr 0.010000000000000002\n",
            "epoch 109, loss 0.016591, train acc 0.995420, time 57.34 sec, lr 0.010000000000000002\n",
            "epoch 110, loss 0.017078, train acc 0.995020, time 56.68 sec, lr 0.010000000000000002\n",
            "epoch 111, loss 0.015624, train acc 0.995380, time 56.54 sec, lr 0.010000000000000002\n",
            "epoch 112, loss 0.015141, train acc 0.995560, time 56.42 sec, lr 0.010000000000000002\n",
            "epoch 113, loss 0.014314, train acc 0.995760, time 56.76 sec, lr 0.010000000000000002\n",
            "epoch 114, loss 0.015120, train acc 0.995380, time 56.93 sec, lr 0.010000000000000002\n",
            "epoch 115, loss 0.013627, train acc 0.995800, time 56.46 sec, lr 0.010000000000000002\n",
            "epoch 116, loss 0.013987, train acc 0.995940, time 56.49 sec, lr 0.010000000000000002\n",
            "epoch 117, loss 0.012513, train acc 0.996360, time 56.20 sec, lr 0.010000000000000002\n",
            "epoch 118, loss 0.013238, train acc 0.995860, time 56.02 sec, lr 0.010000000000000002\n",
            "epoch 119, loss 0.012140, train acc 0.996600, time 56.26 sec, lr 0.010000000000000002\n",
            "epoch 120, loss 0.012522, train acc 0.996360, time 56.37 sec, lr 0.010000000000000002\n",
            "epoch 121, loss 0.012507, train acc 0.996260, time 56.12 sec, lr 0.010000000000000002\n",
            "epoch 122, loss 0.012434, train acc 0.996160, time 55.75 sec, lr 0.010000000000000002\n",
            "epoch 123, loss 0.012449, train acc 0.996340, time 55.57 sec, lr 0.010000000000000002\n",
            "epoch 124, loss 0.010426, train acc 0.997120, time 55.57 sec, lr 0.010000000000000002\n",
            "epoch 125, loss 0.010220, train acc 0.997180, time 56.34 sec, lr 0.010000000000000002\n",
            "epoch 126, loss 0.011658, train acc 0.996640, time 57.33 sec, lr 0.010000000000000002\n",
            "epoch 127, loss 0.011771, train acc 0.996480, time 57.42 sec, lr 0.010000000000000002\n",
            "epoch 128, loss 0.010755, train acc 0.997100, time 58.35 sec, lr 0.010000000000000002\n",
            "epoch 129, loss 0.010569, train acc 0.996560, time 56.91 sec, lr 0.010000000000000002\n",
            "epoch 130, loss 0.011216, train acc 0.996480, time 57.25 sec, lr 0.010000000000000002\n",
            "epoch 131, loss 0.009594, train acc 0.997300, time 57.68 sec, lr 0.010000000000000002\n",
            "epoch 132, loss 0.010447, train acc 0.996880, time 56.72 sec, lr 0.010000000000000002\n",
            "epoch 133, loss 0.010418, train acc 0.996840, time 56.11 sec, lr 0.010000000000000002\n",
            "epoch 134, loss 0.009588, train acc 0.997060, time 56.08 sec, lr 0.010000000000000002\n",
            "epoch 135, loss 0.009740, train acc 0.997180, time 55.94 sec, lr 0.010000000000000002\n",
            "epoch 136, loss 0.009073, train acc 0.997540, time 57.49 sec, lr 0.010000000000000002\n",
            "epoch 137, loss 0.008207, train acc 0.997800, time 55.47 sec, lr 0.010000000000000002\n",
            "epoch 138, loss 0.008651, train acc 0.997720, time 55.41 sec, lr 0.010000000000000002\n",
            "epoch 139, loss 0.008847, train acc 0.997440, time 55.53 sec, lr 0.010000000000000002\n",
            "epoch 140, loss 0.009109, train acc 0.997540, time 55.56 sec, lr 0.010000000000000002\n",
            "epoch 141, loss 0.008245, train acc 0.997680, time 55.65 sec, lr 0.010000000000000002\n",
            "epoch 142, loss 0.008579, train acc 0.997600, time 55.99 sec, lr 0.010000000000000002\n",
            "epoch 143, loss 0.008622, train acc 0.997380, time 55.84 sec, lr 0.010000000000000002\n",
            "epoch 144, loss 0.007843, train acc 0.997600, time 55.52 sec, lr 0.010000000000000002\n",
            "epoch 145, loss 0.008381, train acc 0.997780, time 55.55 sec, lr 0.010000000000000002\n",
            "epoch 146, loss 0.008280, train acc 0.997620, time 55.83 sec, lr 0.010000000000000002\n",
            "epoch 147, loss 0.009055, train acc 0.997480, time 56.15 sec, lr 0.010000000000000002\n",
            "epoch 148, loss 0.007631, train acc 0.997820, time 55.68 sec, lr 0.010000000000000002\n",
            "epoch 149, loss 0.007945, train acc 0.997820, time 55.81 sec, lr 0.010000000000000002\n",
            "epoch 150, loss 0.007657, train acc 0.997880, time 55.74 sec, lr 0.010000000000000002\n",
            "epoch 151, loss 0.007608, train acc 0.998020, time 56.02 sec, lr 0.010000000000000002\n",
            "epoch 152, loss 0.007001, train acc 0.997980, time 56.21 sec, lr 0.010000000000000002\n",
            "epoch 153, loss 0.007440, train acc 0.998040, time 56.39 sec, lr 0.010000000000000002\n",
            "epoch 154, loss 0.007307, train acc 0.998000, time 55.82 sec, lr 0.010000000000000002\n",
            "epoch 155, loss 0.007724, train acc 0.997840, time 55.75 sec, lr 0.010000000000000002\n",
            "epoch 156, loss 0.007103, train acc 0.998200, time 55.90 sec, lr 0.010000000000000002\n",
            "epoch 157, loss 0.006780, train acc 0.998140, time 56.07 sec, lr 0.010000000000000002\n",
            "epoch 158, loss 0.007497, train acc 0.997820, time 56.28 sec, lr 0.010000000000000002\n",
            "epoch 159, loss 0.006649, train acc 0.998200, time 55.84 sec, lr 0.010000000000000002\n",
            "epoch 160, loss 0.006565, train acc 0.998240, time 56.06 sec, lr 0.010000000000000002\n",
            "epoch 161, loss 0.007200, train acc 0.998120, time 55.88 sec, lr 0.010000000000000002\n",
            "epoch 162, loss 0.006920, train acc 0.998100, time 56.11 sec, lr 0.010000000000000002\n",
            "epoch 163, loss 0.006914, train acc 0.998320, time 55.63 sec, lr 0.010000000000000002\n",
            "epoch 164, loss 0.007184, train acc 0.998120, time 55.18 sec, lr 0.010000000000000002\n",
            "epoch 165, loss 0.007131, train acc 0.997820, time 54.79 sec, lr 0.010000000000000002\n",
            "epoch 166, loss 0.006772, train acc 0.998160, time 54.82 sec, lr 0.010000000000000002\n",
            "epoch 167, loss 0.007000, train acc 0.998020, time 54.61 sec, lr 0.010000000000000002\n",
            "epoch 168, loss 0.007245, train acc 0.997980, time 54.74 sec, lr 0.010000000000000002\n",
            "epoch 169, loss 0.005688, train acc 0.998420, time 54.57 sec, lr 0.010000000000000002\n",
            "epoch 170, loss 0.007468, train acc 0.997980, time 54.62 sec, lr 0.010000000000000002\n",
            "epoch 171, loss 0.006430, train acc 0.998520, time 54.24 sec, lr 0.010000000000000002\n",
            "epoch 172, loss 0.006620, train acc 0.998320, time 54.54 sec, lr 0.010000000000000002\n",
            "epoch 173, loss 0.006871, train acc 0.998040, time 54.33 sec, lr 0.010000000000000002\n",
            "epoch 174, loss 0.006755, train acc 0.998200, time 54.76 sec, lr 0.010000000000000002\n",
            "epoch 175, loss 0.006436, train acc 0.998260, time 54.85 sec, lr 0.010000000000000002\n",
            "epoch 176, loss 0.006301, train acc 0.998420, time 54.37 sec, lr 0.010000000000000002\n",
            "epoch 177, loss 0.005702, train acc 0.998620, time 54.74 sec, lr 0.010000000000000002\n",
            "epoch 178, loss 0.005615, train acc 0.998600, time 54.77 sec, lr 0.010000000000000002\n",
            "epoch 179, loss 0.005929, train acc 0.998600, time 54.77 sec, lr 0.010000000000000002\n",
            "epoch 180, loss 0.006765, train acc 0.998060, time 54.91 sec, lr 0.010000000000000002\n",
            "epoch 181, loss 0.005389, train acc 0.998420, time 55.47 sec, lr 0.0010000000000000002\n",
            "epoch 182, loss 0.005740, train acc 0.998540, time 55.16 sec, lr 0.0010000000000000002\n",
            "epoch 183, loss 0.005617, train acc 0.998580, time 55.17 sec, lr 0.0010000000000000002\n",
            "epoch 184, loss 0.005248, train acc 0.998460, time 54.99 sec, lr 0.0010000000000000002\n",
            "epoch 185, loss 0.004942, train acc 0.998640, time 55.10 sec, lr 0.0010000000000000002\n",
            "epoch 186, loss 0.004870, train acc 0.998700, time 55.01 sec, lr 0.0010000000000000002\n",
            "epoch 187, loss 0.004892, train acc 0.998640, time 55.32 sec, lr 0.0010000000000000002\n",
            "epoch 188, loss 0.005019, train acc 0.998720, time 56.52 sec, lr 0.0010000000000000002\n",
            "epoch 189, loss 0.004288, train acc 0.998860, time 56.01 sec, lr 0.0010000000000000002\n",
            "epoch 190, loss 0.004287, train acc 0.998980, time 56.07 sec, lr 0.0010000000000000002\n",
            "epoch 191, loss 0.004688, train acc 0.998740, time 56.16 sec, lr 0.0010000000000000002\n",
            "epoch 192, loss 0.004181, train acc 0.998940, time 56.36 sec, lr 0.0010000000000000002\n",
            "epoch 193, loss 0.004413, train acc 0.999100, time 55.98 sec, lr 0.0010000000000000002\n",
            "epoch 194, loss 0.004062, train acc 0.999080, time 55.73 sec, lr 0.0010000000000000002\n",
            "epoch 195, loss 0.004395, train acc 0.998940, time 55.36 sec, lr 0.0010000000000000002\n",
            "epoch 196, loss 0.004446, train acc 0.998900, time 55.80 sec, lr 0.0010000000000000002\n",
            "epoch 197, loss 0.004343, train acc 0.998920, time 56.13 sec, lr 0.0010000000000000002\n",
            "epoch 198, loss 0.004628, train acc 0.998660, time 56.20 sec, lr 0.0010000000000000002\n",
            "epoch 199, loss 0.003823, train acc 0.999220, time 55.44 sec, lr 0.0010000000000000002\n",
            "epoch 200, loss 0.004550, train acc 0.998800, time 55.16 sec, lr 0.0010000000000000002\n"
          ],
          "name": "stdout"
        }
      ]
    },
    {
      "cell_type": "code",
      "metadata": {
        "id": "awhUaX5pe__Q",
        "colab_type": "code",
        "colab": {}
      },
      "source": [
        "for X, _ in test_iter:\n",
        "    y_hat = net(X.as_in_context(ctx))\n",
        "    preds.extend(y_hat.argmax(axis=1).astype(int).asnumpy())\n",
        "sorted_ids = list(range(1, len(test_ds) + 1))\n",
        "sorted_ids.sort(key=lambda x: str(x))\n",
        "df = pd.DataFrame({'id': sorted_ids, 'label': preds})\n",
        "df['label'] = df['label'].apply(lambda x: train_valid_ds.synsets[x])"
      ],
      "execution_count": 0,
      "outputs": []
    },
    {
      "cell_type": "code",
      "metadata": {
        "id": "t0IwDd83fAop",
        "colab_type": "code",
        "colab": {}
      },
      "source": [
        "df.to_csv('../cifar/submissions.csv',index=False)"
      ],
      "execution_count": 0,
      "outputs": []
    }
  ]
}